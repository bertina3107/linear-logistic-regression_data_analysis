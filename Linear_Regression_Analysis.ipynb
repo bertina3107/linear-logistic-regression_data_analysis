{
  "nbformat": 4,
  "nbformat_minor": 0,
  "metadata": {
    "colab": {
      "provenance": []
    },
    "kernelspec": {
      "name": "python3",
      "display_name": "Python 3"
    },
    "language_info": {
      "name": "python"
    }
  },
  "cells": [
    {
      "cell_type": "markdown",
      "source": [
        "Inferred from population.csv, child_mortality.csv, fertility.csv, life_expectancy.csv, family_heights.csv"
      ],
      "metadata": {
        "id": "P-sQ1BaU1GIR"
      }
    },
    {
      "cell_type": "code",
      "execution_count": null,
      "metadata": {
        "id": "JcC0i4jqzs9R"
      },
      "outputs": [],
      "source": [
        "import numpy as np\n",
        "from numpy.random import default_rng\n",
        "rng = default_rng()\n",
        "import pandas as pd\n",
        "from scipy.optimize import minimize\n",
        "\n",
        "# These lines do some fancy plotting magic.\n",
        "import matplotlib\n",
        "# This is a magic function that renders the figure in the notebook, instead of displaying a dump of the figure object.\n",
        "%matplotlib inline\n",
        "import matplotlib.pyplot as plt\n",
        "plt.style.use('fivethirtyeight')\n",
        "import warnings\n",
        "warnings.simplefilter('ignore', FutureWarning)"
      ]
    },
    {
      "cell_type": "markdown",
      "source": [
        "# **Part 1: Population**\n",
        "The global population of humans reached 1 billion around 1800, 3 billion around 1960, and 7 billion around 2011. The potential impact of exponential population growth has concerned scientists, economists, and politicians alike.\n",
        "\n",
        "The UN Population Division estimates that the world population will likely continue to grow throughout the 21st century, but at a slower rate, perhaps reaching 11 billion by 2100. However, the UN does not rule out scenarios of more extreme growth.\n",
        "\n",
        "In this section, we will examine some of the factors that influence population growth and how they are changing around the world."
      ],
      "metadata": {
        "id": "nXw05ZIm1NsM"
      }
    },
    {
      "cell_type": "code",
      "source": [
        "population = pd.read_csv('population.csv', header=0)\n",
        "population.drop(population.index[(population[\"time\"] >= 2021)],axis=0,inplace=True)\n",
        "population.shape"
      ],
      "metadata": {
        "id": "LsslC3M-1XUw"
      },
      "execution_count": null,
      "outputs": []
    },
    {
      "cell_type": "markdown",
      "source": [
        "### Haiti"
      ],
      "metadata": {
        "id": "VOoO0Frw1eEq"
      }
    },
    {
      "cell_type": "code",
      "source": [
        "h_pop_hti = population.loc[population['geo'] == 'hti']\n",
        "h_pop_time = h_pop_hti[(h_pop_hti['time'] >= 1970) & (h_pop_hti['time'] <= 2020)]\n",
        "h_pop = h_pop_time[['time','population_total']]\n",
        "h_pop.shape\n",
        "tens = np.arange(1970,2021,10)\n",
        "h_decade = h_pop.loc[h_pop['time'].isin(tens)]\n",
        "h_decade\n",
        "initial = h_decade[(h_decade['time'] >= 1970) & (h_decade['time'] <= 2010)]['population_total']\n",
        "changed = h_decade[(h_decade['time'] >= 1980) & (h_decade['time'] <= 2020)]['population_total']\n",
        "\n",
        "growth_rates = ((changed/initial)**0.1)-1\n",
        "\n",
        "h_1970_through_2010 = h_decade.loc[h_decade['time'] <= 2010]\n",
        "h_decade_growth = h_1970_through_2010.assign(annual_growth = growth_rates)"
      ],
      "metadata": {
        "id": "cNxRwojb1qqb"
      },
      "execution_count": null,
      "outputs": []
    },
    {
      "cell_type": "markdown",
      "source": [
        "While the population has grown every decade since 1970, the annual growth rate decreased dramatically from 1980 to 2020. Let's look at some other information in order to develop a possible explanation."
      ],
      "metadata": {
        "id": "FbsFJwKF1_rr"
      }
    },
    {
      "cell_type": "code",
      "source": [
        "life_expectancy = pd.read_csv('life_expectancy.csv', header=0)\n",
        "life_expectancy.drop(life_expectancy.loc[life_expectancy['time'] >= 2021].index, inplace=True)\n",
        "\n",
        "child_mortality = pd.read_csv('child_mortality.csv', header=0)\n",
        "child_mortality.drop(child_mortality.loc[child_mortality['time'] >= 2021].index, inplace=True)\n",
        "child_mortality.rename(columns={\"child_mortality_0_5_year_olds_dying_per_1000_born\":\"child_mortality_under_5_per_1000_born\"}, inplace=True)\n",
        "\n",
        "fertility = pd.read_csv('fertility.csv', header=0)\n",
        "fertility.drop(fertility.loc[fertility['time'] >= 2021].index, inplace=True)"
      ],
      "metadata": {
        "id": "8UGufs1e2Cgj"
      },
      "execution_count": null,
      "outputs": []
    },
    {
      "cell_type": "code",
      "source": [
        "life_expectancy_haiti = life_expectancy.loc[life_expectancy['geo'] == 'hti']\n",
        "life_expectancy_haiti = life_expectancy_haiti[(life_expectancy_haiti['time'] >= 1970)]\n",
        "life_expectancy_haiti = life_expectancy_haiti[['time','life_expectancy_years']]\n",
        "\n",
        "# plotting the data...\n",
        "plt.figure(figsize = (5, 5))\n",
        "plt.plot(life_expectancy_haiti['time'], life_expectancy_haiti['life_expectancy_years'], marker = 'o', linestyle = '-', color = 'blue')\n",
        "plt.title('Change in Life Expectancy in Haiti (1970-2020)')\n",
        "plt.xlabel('Year')\n",
        "plt.ylabel('Life Expectancy At Birth')\n",
        "plt.grid(True)\n",
        "plt.show()"
      ],
      "metadata": {
        "id": "W6LsX8tP2IK-"
      },
      "execution_count": null,
      "outputs": []
    },
    {
      "cell_type": "markdown",
      "source": [
        "Assuming everything else stays the same, the trends in the life expectancy graph above does not explain why the population decreased from 1980 to 2010 as the life expectancy graph has an upward trend which should indicate that population growth rate should have increased rather than decreased. But it has decreased drastically in 2010 due to the Haiti Earthquake in 2010 which had a catastrophic impact on the Haiti population. This is the reason for the population growth rate decrease rather than the life expectancy decreasing."
      ],
      "metadata": {
        "id": "Avx1pOHR2NYR"
      }
    },
    {
      "cell_type": "code",
      "source": [
        "def fertility_over_time(country, start):\n",
        "    \"\"\"Create a two-column dataframe that describes a country's total fertility rate each year.\"\"\"\n",
        "    fertility_data_frame = fertility.loc[(fertility['geo'] == country) & (fertility['time'] >= start)][['time','children_per_woman_total_fertility']]\n",
        "    fertility_data_frame.rename(columns={'time':'Year','children_per_woman_total_fertility':'Children per woman'},inplace=True)\n",
        "    return fertility_data_frame"
      ],
      "metadata": {
        "id": "FBk3bVuz2grT"
      },
      "execution_count": null,
      "outputs": []
    },
    {
      "cell_type": "code",
      "source": [
        "haiti_code = 'hti'\n",
        "fertility_over_time(haiti_code, 1970).plot(0, 1)"
      ],
      "metadata": {
        "id": "KUwNRDxO2ieW"
      },
      "execution_count": null,
      "outputs": []
    },
    {
      "cell_type": "markdown",
      "source": [
        "Yes, the trends in fertility in the graph above directly explain why the population growth rate decreased from 1980 to 2020. The graphs above depicts a negative trend in Children per woman strating from 1970 to 2020. As the fertility goes down, the number of children being born on average from a mother goes down, decreasing the popluation growth rate."
      ],
      "metadata": {
        "id": "Q36rTJ1c2w5W"
      }
    },
    {
      "cell_type": "code",
      "source": [
        "post_1969_fertility_and_child_mortality = child_mortality.join(fertility.set_index(['geo','time']), on=['geo','time'])\n",
        "post_1969_fertility_and_child_mortality = post_1969_fertility_and_child_mortality[post_1969_fertility_and_child_mortality['time'] >= 1970]\n",
        "post_1969_fertility_and_child_mortality.rename(columns={'time':'Year','children_per_woman_total_fertility':'Children per woman','child_mortality_under_5_per_1000_born':'Child deaths per 1000 born'},inplace=True)\n",
        "post_1969_fertility_and_child_mortality.plot.scatter('Children per woman','Child deaths per 1000 born')"
      ],
      "metadata": {
        "id": "dPMClzWr20qD"
      },
      "execution_count": null,
      "outputs": []
    },
    {
      "cell_type": "markdown",
      "source": [
        "It shows that there is a relation between Children per woman and child deaths per 100 born. The more number of children born per woman, the higher the chances of death. This can suggest that reduced child mortality causes parents to choose to have fewer children. There are some outlier which suggest sthat sometimes even low numbers of children per woman may have a higher mortality rate but it seems to be quite rare."
      ],
      "metadata": {
        "id": "Tgb6Ur8A24ZG"
      }
    },
    {
      "cell_type": "code",
      "source": [
        "post_1969_fertility_and_child_mortality.plot.scatter('Year', 'Child deaths per 1000 born')"
      ],
      "metadata": {
        "id": "P-72o1SY27zG"
      },
      "execution_count": null,
      "outputs": []
    },
    {
      "cell_type": "markdown",
      "source": [
        "This explains the outlier caused by the 2010 Haiti Earthquake. This new visualisation comparing Child deaths per 1000 born aginst the year shows that historical factors come into play when analysing Haiti's population."
      ],
      "metadata": {
        "id": "zuioglwY2_Xv"
      }
    },
    {
      "cell_type": "code",
      "source": [
        "heights = pd.read_csv('family_heights.csv')\n",
        "heights"
      ],
      "metadata": {
        "id": "BgQs53wi4OYY"
      },
      "execution_count": null,
      "outputs": []
    },
    {
      "cell_type": "code",
      "source": [
        "heights.plot.scatter('midparentHeight', 'childHeight')\n",
        "plt.xlabel('Midparent Height')\n",
        "plt.ylabel('Child Height')\n",
        "plt.grid(True)\n",
        "plt.title(\"Scatter Plot of Child Height vs. Midparent Height\")\n",
        "plt.show()"
      ],
      "metadata": {
        "id": "22k9ZXAe5fb8"
      },
      "execution_count": null,
      "outputs": []
    },
    {
      "cell_type": "code",
      "source": [
        "close_to_70_data = heights[(heights['midparentHeight'] >= 69.5) & (heights['midparentHeight'] <= 70.5)]\n",
        "close_to_70_average = close_to_70_data['childHeight'].mean()\n",
        "close_to_70 = round(close_to_70_average, 4)\n",
        "\n",
        "close_to_70"
      ],
      "metadata": {
        "id": "qagsrddm5kql"
      },
      "execution_count": null,
      "outputs": []
    },
    {
      "cell_type": "code",
      "source": [
        "plt.scatter('midparentHeight', 'child', s = 10)\n",
        "plt.xlabel('Parent Average')\n",
        "plt.ylabel('Child')\n",
        "\n",
        "plt.plot([69.5, 69.5], [50, 85], color='red', lw=2)  # plots red vertical lines\n",
        "plt.plot([70.5, 70.5], [50, 85], color='red', lw=2)\n",
        "plt.scatter(70, close_to_70, color='gold', s=40);  # plots gold point"
      ],
      "metadata": {
        "id": "vSuXmM-f53VP"
      },
      "execution_count": null,
      "outputs": []
    },
    {
      "cell_type": "code",
      "source": [
        "def predict_child(avg_height_of_parents):\n",
        "    close_to_avg_height_of_parents = heights[(heights['midparentHeight'] >= (avg_height_of_parents - 0.5)) &\n",
        "                       (heights['midparentHeight'] <= (avg_height_of_parents + 0.5))]\n",
        "    close_to_avg_height_of_parents = round(close_to_avg_height_of_parents['childHeight'].mean(), 4)\n",
        "\n",
        "    return close_to_avg_height_of_parents"
      ],
      "metadata": {
        "id": "bJ32Zy926bxb"
      },
      "execution_count": null,
      "outputs": []
    },
    {
      "cell_type": "code",
      "source": [
        "child_predictions = []\n",
        "\n",
        "for avg_parent_height in heights['midparentHeight']:\n",
        "    predicted_childs_height = predict_child(avg_parent_height)\n",
        "    child_predictions.append(predicted_childs_height)\n",
        "\n",
        "# the code below makes a copy of heights and inserts the Predictions column\n",
        "height_and_prediction = heights.copy()\n",
        "height_and_prediction.insert(8, \"Predictions\", child_predictions, True)\n",
        "height_and_prediction"
      ],
      "metadata": {
        "id": "X_iF5rWw6eDM"
      },
      "execution_count": null,
      "outputs": []
    },
    {
      "cell_type": "code",
      "source": [
        "plt.scatter(height_and_prediction['midparentHeight'], height_and_prediction['childHeight'], color='green', label='Actual Data')\n",
        "plt.scatter(height_and_prediction['midparentHeight'], height_and_prediction['Predictions'], color='red', label='Predicted Data')\n",
        "plt.xlabel('Midparent Height')\n",
        "plt.ylabel('Child Height')\n",
        "plt.legend()\n",
        "plt.grid(True)\n",
        "plt.title(\"Scatter Plot of Child Height vs. Midparent Height\")\n",
        "plt.show()"
      ],
      "metadata": {
        "id": "S4PU7kvM6kDm"
      },
      "execution_count": null,
      "outputs": []
    },
    {
      "cell_type": "code",
      "source": [
        "correlation_coefficient = np.corrcoef(height_and_prediction['midparentHeight'], height_and_prediction['Predictions'])[0, 1]\n",
        "correlation_coefficient"
      ],
      "metadata": {
        "id": "oNfFVbr46uy_"
      },
      "execution_count": null,
      "outputs": []
    },
    {
      "cell_type": "markdown",
      "source": [
        "A correlation coefficient of 0.9 ~ 1 reveals a strong positive correlation between the relationship of the average parent height and the predicted child's height. It signifies that the predicted data above and the average parent height are almost a perfect positive correlation as 0.9 ~ 1 where if the correlation coefficient is 1 it means a perfect positive correlation implying a direct relationship between the 2 columns. This is to say that when the average height of the parents increases, the predicted height of the chil also increases. The data is i.i.d (independent and identically distributed) as the heights of the children do not depend on the height of other children, even if they are fromthe same family. The results are independent of each other. It is identically distributed."
      ],
      "metadata": {
        "id": "0Tu-Ej8b6yXX"
      }
    },
    {
      "cell_type": "code",
      "source": [
        "def converts_to_standard_units(arr):\n",
        "    mean = arr.mean()\n",
        "    std = arr.std()\n",
        "    z = (arr - mean) / std\n",
        "    return z\n",
        "\n",
        "midparent_SU = converts_to_standard_units(heights['midparentHeight'])\n",
        "child_SU = converts_to_standard_units(heights['childHeight'])\n",
        "\n",
        "heights_SU = pd.DataFrame({'MidParent SU': midparent_SU,'Child SU': child_SU})\n",
        "\n",
        "print(heights_SU.head())\n",
        "\n",
        "sd_midparent = heights['midparentHeight'].std()\n",
        "close = 0.5 / sd_midparent\n",
        "\n",
        "def predict_child_SU(avg_height_of_parents):\n",
        "    close_to_avg_height_of_parents = heights_SU[(heights_SU['MidParent SU'] >= (avg_height_of_parents - close)) &\n",
        "                       (heights_SU['MidParent SU'] <= (avg_height_of_parents + close))]\n",
        "    predicted_child_height = round(close_to_avg_height_of_parents['Child SU'].mean(), 4)\n",
        "\n",
        "    return predicted_child_height\n",
        "\n",
        "child_predictions_SU = []\n",
        "\n",
        "for avg_parent_height_SU in heights_SU['MidParent SU']:\n",
        "    predicted_child_SU = predict_child_SU(avg_parent_height_SU)\n",
        "    child_predictions_SU.append(predicted_child_SU)\n",
        "\n",
        "# the code below makes a copy of heights_SU and inserts the Predictions SU column\n",
        "height_and_prediction_SU = heights_SU.copy()\n",
        "height_and_prediction_SU.insert(2, \"Predictions SU\", child_predictions_SU, True)\n",
        "height_and_prediction_SU"
      ],
      "metadata": {
        "id": "A3u-0YJJ61Qv"
      },
      "execution_count": null,
      "outputs": []
    },
    {
      "cell_type": "code",
      "source": [
        "plt.scatter(height_and_prediction_SU['MidParent SU'], height_and_prediction_SU['Child SU'], color='green', label='Actual Data in SU')\n",
        "plt.scatter(height_and_prediction_SU['MidParent SU'], height_and_prediction_SU['Predictions SU'], color='red', label='Predicted Data in SU')\n",
        "plt.xlabel('Midparent Height in SU')\n",
        "plt.ylabel('Child Height in SU')\n",
        "plt.legend()\n",
        "plt.grid(True)\n",
        "plt.title(\"Scatter Plot of Child Height vs. Midparent Height\")\n",
        "\n",
        "plt.show()"
      ],
      "metadata": {
        "id": "8XSaDmSU7QL9"
      },
      "execution_count": null,
      "outputs": []
    },
    {
      "cell_type": "code",
      "source": [
        "def slope(df, x_label, y_label):\n",
        "    r = np.corrcoef(df[x_label], df[y_label])[0, 1]\n",
        "    sd_x = df[x_label].std()\n",
        "    sd_y = df[y_label].std()\n",
        "    slope = r * (sd_y / sd_x)\n",
        "    return slope\n",
        "\n",
        "def intercept(df, x_label, y_label):\n",
        "    mean_x = df[x_label].mean()\n",
        "    mean_y = df[y_label].mean()\n",
        "    slope_value = slope(df, x_label, y_label)\n",
        "    intercept = mean_y - (slope_value * mean_x)\n",
        "    return intercept\n",
        "\n",
        "family_slope = slope(heights, 'midparentHeight', 'childHeight')\n",
        "family_intercept = intercept(heights, 'midparentHeight', 'childHeight')\n",
        "family_slope, family_intercept"
      ],
      "metadata": {
        "id": "4mUrnQF87Tbu"
      },
      "execution_count": null,
      "outputs": []
    },
    {
      "cell_type": "code",
      "source": [
        "def reg_prediction(avg_parent_height):\n",
        "    regression_eqn =  family_slope * avg_parent_height + family_intercept\n",
        "    return regression_eqn\n",
        "\n",
        "regression_predictions = []\n",
        "\n",
        "for parent_height in heights['midparentHeight']:\n",
        "    prediction = reg_prediction(parent_height)\n",
        "    regression_predictions.append(prediction)\n",
        "\n",
        "# the code below makes a copy of heights and inserts the Predictions column\n",
        "height_and_prediction.insert(9, \"Regression Predictions\", regression_predictions, True)\n",
        "height_and_prediction"
      ],
      "metadata": {
        "id": "IIsPy9I37aYO"
      },
      "execution_count": null,
      "outputs": []
    },
    {
      "cell_type": "code",
      "source": [
        "# Scatter plot - original child height data\n",
        "plt.scatter(height_and_prediction['midparentHeight'], height_and_prediction['childHeight'], color='blue', label='Original Child Height Data')\n",
        "\n",
        "# Scatter plot - predicted data\n",
        "plt.scatter(height_and_prediction['midparentHeight'], height_and_prediction['Predictions'], color='green', label='Predicted Data', alpha=0.5)\n",
        "\n",
        "# Scatter plot - regression prediction data\n",
        "plt.scatter(height_and_prediction['midparentHeight'], height_and_prediction['Regression Predictions'], color='red', label='Regression Prediction', alpha=0.5)\n",
        "\n",
        "plt.xlabel('Midparent Height')\n",
        "plt.ylabel('Child Height')\n",
        "plt.title('Comparison of Original, Predicted, and Regression Predicted Child Height Data')\n",
        "plt.legend()\n",
        "plt.grid(True)\n",
        "plt.show()"
      ],
      "metadata": {
        "id": "lgtCl4Xt7gLH"
      },
      "execution_count": null,
      "outputs": []
    },
    {
      "cell_type": "markdown",
      "source": [
        "The regression prediction follows the trend of the predicted data, consistent with the relationship between the average height of the parents and the childs height. As the correlation coefficient is quite high, the predicted height and the regression prediction does well in approximating the child heights. The model allows us to conclude that the relationship follows a linear trend upwards, indicating taller average parent height leads to taller child height."
      ],
      "metadata": {
        "id": "SiFS_Yok7lmP"
      }
    }
  ]
}